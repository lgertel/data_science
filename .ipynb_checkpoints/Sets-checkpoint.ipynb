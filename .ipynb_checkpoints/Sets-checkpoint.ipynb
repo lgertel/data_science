{
 "cells": [
  {
   "cell_type": "code",
   "execution_count": 2,
   "metadata": {},
   "outputs": [
    {
     "name": "stdout",
     "output_type": "stream",
     "text": [
      "False\n",
      "{'watermelon', 'orange', 'apple', 'grapefruit', 'banana'}\n",
      "watermelon\n",
      "{'orange', 'apple', 'grapefruit', 'banana'}\n"
     ]
    }
   ],
   "source": [
    "fruit = {\"apple\", \"banana\", \"orange\", \"grapefruit\"}  # define a set\n",
    "\n",
    "print(\"watermelon\" in fruit)  # check for element\n",
    "\n",
    "fruit.add(\"watermelon\")  # add an element\n",
    "print(fruit)\n",
    "\n",
    "print(fruit.pop())  # remove a random element\n",
    "print(fruit)"
   ]
  },
  {
   "cell_type": "code",
   "execution_count": null,
   "metadata": {},
   "outputs": [],
   "source": []
  }
 ],
 "metadata": {
  "kernelspec": {
   "display_name": "Python 3",
   "language": "python",
   "name": "python3"
  },
  "language_info": {
   "codemirror_mode": {
    "name": "ipython",
    "version": 3
   },
   "file_extension": ".py",
   "mimetype": "text/x-python",
   "name": "python",
   "nbconvert_exporter": "python",
   "pygments_lexer": "ipython3",
   "version": "3.6.5"
  }
 },
 "nbformat": 4,
 "nbformat_minor": 2
}
