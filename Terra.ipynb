{
 "cells": [
  {
   "cell_type": "code",
   "execution_count": 1,
   "metadata": {},
   "outputs": [
    {
     "data": {
      "text/plain": [
       "'0.22.0'"
      ]
     },
     "execution_count": 1,
     "metadata": {},
     "output_type": "execute_result"
    }
   ],
   "source": [
    "import pandas as pd\n",
    "pd.__version__"
   ]
  },
  {
   "cell_type": "code",
   "execution_count": 2,
   "metadata": {},
   "outputs": [
    {
     "data": {
      "text/html": [
       "<div>\n",
       "<style scoped>\n",
       "    .dataframe tbody tr th:only-of-type {\n",
       "        vertical-align: middle;\n",
       "    }\n",
       "\n",
       "    .dataframe tbody tr th {\n",
       "        vertical-align: top;\n",
       "    }\n",
       "\n",
       "    .dataframe thead th {\n",
       "        text-align: right;\n",
       "    }\n",
       "</style>\n",
       "<table border=\"1\" class=\"dataframe\">\n",
       "  <thead>\n",
       "    <tr style=\"text-align: right;\">\n",
       "      <th></th>\n",
       "      <th>ID</th>\n",
       "      <th>% USED SPACE</th>\n",
       "    </tr>\n",
       "  </thead>\n",
       "  <tbody>\n",
       "    <tr>\n",
       "      <th>count</th>\n",
       "      <td>8.857800e+04</td>\n",
       "      <td>88578.000000</td>\n",
       "    </tr>\n",
       "    <tr>\n",
       "      <th>mean</th>\n",
       "      <td>2.625103e+07</td>\n",
       "      <td>0.136941</td>\n",
       "    </tr>\n",
       "    <tr>\n",
       "      <th>std</th>\n",
       "      <td>2.224500e+07</td>\n",
       "      <td>2.615448</td>\n",
       "    </tr>\n",
       "    <tr>\n",
       "      <th>min</th>\n",
       "      <td>2.000000e+00</td>\n",
       "      <td>0.000000</td>\n",
       "    </tr>\n",
       "    <tr>\n",
       "      <th>25%</th>\n",
       "      <td>6.211488e+06</td>\n",
       "      <td>0.000000</td>\n",
       "    </tr>\n",
       "    <tr>\n",
       "      <th>50%</th>\n",
       "      <td>1.818310e+07</td>\n",
       "      <td>0.000000</td>\n",
       "    </tr>\n",
       "    <tr>\n",
       "      <th>75%</th>\n",
       "      <td>4.577433e+07</td>\n",
       "      <td>0.000000</td>\n",
       "    </tr>\n",
       "    <tr>\n",
       "      <th>max</th>\n",
       "      <td>7.117907e+07</td>\n",
       "      <td>100.000000</td>\n",
       "    </tr>\n",
       "  </tbody>\n",
       "</table>\n",
       "</div>"
      ],
      "text/plain": [
       "                 ID  % USED SPACE\n",
       "count  8.857800e+04  88578.000000\n",
       "mean   2.625103e+07      0.136941\n",
       "std    2.224500e+07      2.615448\n",
       "min    2.000000e+00      0.000000\n",
       "25%    6.211488e+06      0.000000\n",
       "50%    1.818310e+07      0.000000\n",
       "75%    4.577433e+07      0.000000\n",
       "max    7.117907e+07    100.000000"
      ]
     },
     "execution_count": 2,
     "metadata": {},
     "output_type": "execute_result"
    }
   ],
   "source": [
    "df = pd.read_csv(\"05_03_18.csv\", sep=\",\")\n",
    "df.describe()"
   ]
  },
  {
   "cell_type": "code",
   "execution_count": 3,
   "metadata": {},
   "outputs": [
    {
     "data": {
      "text/html": [
       "<div>\n",
       "<style scoped>\n",
       "    .dataframe tbody tr th:only-of-type {\n",
       "        vertical-align: middle;\n",
       "    }\n",
       "\n",
       "    .dataframe tbody tr th {\n",
       "        vertical-align: top;\n",
       "    }\n",
       "\n",
       "    .dataframe thead th {\n",
       "        text-align: right;\n",
       "    }\n",
       "</style>\n",
       "<table border=\"1\" class=\"dataframe\">\n",
       "  <thead>\n",
       "    <tr style=\"text-align: right;\">\n",
       "      <th></th>\n",
       "      <th>ID</th>\n",
       "      <th>ID COMPL</th>\n",
       "      <th>NOME</th>\n",
       "      <th>E-MAIL</th>\n",
       "      <th>STATUS</th>\n",
       "      <th>ULTIMO LOGIN</th>\n",
       "      <th>QUOTA</th>\n",
       "      <th>USED SPACE</th>\n",
       "      <th>% USED SPACE</th>\n",
       "    </tr>\n",
       "  </thead>\n",
       "  <tbody>\n",
       "    <tr>\n",
       "      <th>0</th>\n",
       "      <td>2</td>\n",
       "      <td>#perm!terra</td>\n",
       "      <td>Teste de API2</td>\n",
       "      <td>teste@teste.com.br</td>\n",
       "      <td>CANCELADO</td>\n",
       "      <td>NaN</td>\n",
       "      <td>2 TB</td>\n",
       "      <td>0 B</td>\n",
       "      <td>0.0</td>\n",
       "    </tr>\n",
       "    <tr>\n",
       "      <th>1</th>\n",
       "      <td>8</td>\n",
       "      <td>#perm!terra</td>\n",
       "      <td>TESTE 8 ALTERADO</td>\n",
       "      <td>luiz.carvalho.alterado@adtsys.com.br</td>\n",
       "      <td>CADASTRADO</td>\n",
       "      <td>NaN</td>\n",
       "      <td>10 GB</td>\n",
       "      <td>0 B</td>\n",
       "      <td>0.0</td>\n",
       "    </tr>\n",
       "    <tr>\n",
       "      <th>2</th>\n",
       "      <td>373</td>\n",
       "      <td>#perm!terra</td>\n",
       "      <td>José Soares Da Cunha Neto</td>\n",
       "      <td>276288@terra.com.br</td>\n",
       "      <td>CANCELADO</td>\n",
       "      <td>NaN</td>\n",
       "      <td>60 GB</td>\n",
       "      <td>0 B</td>\n",
       "      <td>0.0</td>\n",
       "    </tr>\n",
       "    <tr>\n",
       "      <th>3</th>\n",
       "      <td>532</td>\n",
       "      <td>#perm!terra</td>\n",
       "      <td>Richard Cerchiari</td>\n",
       "      <td>4x4@terra.com.br</td>\n",
       "      <td>CADASTRADO</td>\n",
       "      <td>NaN</td>\n",
       "      <td>10 GB</td>\n",
       "      <td>0 B</td>\n",
       "      <td>0.0</td>\n",
       "    </tr>\n",
       "    <tr>\n",
       "      <th>4</th>\n",
       "      <td>1848</td>\n",
       "      <td>#perm!terra</td>\n",
       "      <td>Jayme Leite de Sa</td>\n",
       "      <td>121486@terra.com.br</td>\n",
       "      <td>CADASTRADO</td>\n",
       "      <td>NaN</td>\n",
       "      <td>100 GB</td>\n",
       "      <td>0 B</td>\n",
       "      <td>0.0</td>\n",
       "    </tr>\n",
       "  </tbody>\n",
       "</table>\n",
       "</div>"
      ],
      "text/plain": [
       "     ID     ID COMPL                       NOME  \\\n",
       "0     2  #perm!terra              Teste de API2   \n",
       "1     8  #perm!terra           TESTE 8 ALTERADO   \n",
       "2   373  #perm!terra  José Soares Da Cunha Neto   \n",
       "3   532  #perm!terra          Richard Cerchiari   \n",
       "4  1848  #perm!terra          Jayme Leite de Sa   \n",
       "\n",
       "                                 E-MAIL      STATUS ULTIMO LOGIN   QUOTA  \\\n",
       "0                    teste@teste.com.br   CANCELADO          NaN    2 TB   \n",
       "1  luiz.carvalho.alterado@adtsys.com.br  CADASTRADO          NaN   10 GB   \n",
       "2                   276288@terra.com.br   CANCELADO          NaN   60 GB   \n",
       "3                      4x4@terra.com.br  CADASTRADO          NaN   10 GB   \n",
       "4                   121486@terra.com.br  CADASTRADO          NaN  100 GB   \n",
       "\n",
       "  USED SPACE  % USED SPACE  \n",
       "0        0 B           0.0  \n",
       "1        0 B           0.0  \n",
       "2        0 B           0.0  \n",
       "3        0 B           0.0  \n",
       "4        0 B           0.0  "
      ]
     },
     "execution_count": 3,
     "metadata": {},
     "output_type": "execute_result"
    }
   ],
   "source": [
    "df.head()"
   ]
  },
  {
   "cell_type": "code",
   "execution_count": 4,
   "metadata": {},
   "outputs": [],
   "source": [
    "df = df.drop(['ID COMPL'], axis=1)"
   ]
  },
  {
   "cell_type": "code",
   "execution_count": 5,
   "metadata": {},
   "outputs": [
    {
     "data": {
      "text/html": [
       "<div>\n",
       "<style scoped>\n",
       "    .dataframe tbody tr th:only-of-type {\n",
       "        vertical-align: middle;\n",
       "    }\n",
       "\n",
       "    .dataframe tbody tr th {\n",
       "        vertical-align: top;\n",
       "    }\n",
       "\n",
       "    .dataframe thead th {\n",
       "        text-align: right;\n",
       "    }\n",
       "</style>\n",
       "<table border=\"1\" class=\"dataframe\">\n",
       "  <thead>\n",
       "    <tr style=\"text-align: right;\">\n",
       "      <th></th>\n",
       "      <th>ID</th>\n",
       "      <th>NOME</th>\n",
       "      <th>E-MAIL</th>\n",
       "      <th>STATUS</th>\n",
       "      <th>ULTIMO LOGIN</th>\n",
       "      <th>QUOTA</th>\n",
       "      <th>USED SPACE</th>\n",
       "      <th>% USED SPACE</th>\n",
       "    </tr>\n",
       "  </thead>\n",
       "  <tbody>\n",
       "    <tr>\n",
       "      <th>0</th>\n",
       "      <td>2</td>\n",
       "      <td>Teste de API2</td>\n",
       "      <td>teste@teste.com.br</td>\n",
       "      <td>CANCELADO</td>\n",
       "      <td>NaN</td>\n",
       "      <td>2 TB</td>\n",
       "      <td>0 B</td>\n",
       "      <td>0.0</td>\n",
       "    </tr>\n",
       "    <tr>\n",
       "      <th>1</th>\n",
       "      <td>8</td>\n",
       "      <td>TESTE 8 ALTERADO</td>\n",
       "      <td>luiz.carvalho.alterado@adtsys.com.br</td>\n",
       "      <td>CADASTRADO</td>\n",
       "      <td>NaN</td>\n",
       "      <td>10 GB</td>\n",
       "      <td>0 B</td>\n",
       "      <td>0.0</td>\n",
       "    </tr>\n",
       "    <tr>\n",
       "      <th>2</th>\n",
       "      <td>373</td>\n",
       "      <td>José Soares Da Cunha Neto</td>\n",
       "      <td>276288@terra.com.br</td>\n",
       "      <td>CANCELADO</td>\n",
       "      <td>NaN</td>\n",
       "      <td>60 GB</td>\n",
       "      <td>0 B</td>\n",
       "      <td>0.0</td>\n",
       "    </tr>\n",
       "    <tr>\n",
       "      <th>3</th>\n",
       "      <td>532</td>\n",
       "      <td>Richard Cerchiari</td>\n",
       "      <td>4x4@terra.com.br</td>\n",
       "      <td>CADASTRADO</td>\n",
       "      <td>NaN</td>\n",
       "      <td>10 GB</td>\n",
       "      <td>0 B</td>\n",
       "      <td>0.0</td>\n",
       "    </tr>\n",
       "    <tr>\n",
       "      <th>4</th>\n",
       "      <td>1848</td>\n",
       "      <td>Jayme Leite de Sa</td>\n",
       "      <td>121486@terra.com.br</td>\n",
       "      <td>CADASTRADO</td>\n",
       "      <td>NaN</td>\n",
       "      <td>100 GB</td>\n",
       "      <td>0 B</td>\n",
       "      <td>0.0</td>\n",
       "    </tr>\n",
       "  </tbody>\n",
       "</table>\n",
       "</div>"
      ],
      "text/plain": [
       "     ID                       NOME                                E-MAIL  \\\n",
       "0     2              Teste de API2                    teste@teste.com.br   \n",
       "1     8           TESTE 8 ALTERADO  luiz.carvalho.alterado@adtsys.com.br   \n",
       "2   373  José Soares Da Cunha Neto                   276288@terra.com.br   \n",
       "3   532          Richard Cerchiari                      4x4@terra.com.br   \n",
       "4  1848          Jayme Leite de Sa                   121486@terra.com.br   \n",
       "\n",
       "       STATUS ULTIMO LOGIN   QUOTA USED SPACE  % USED SPACE  \n",
       "0   CANCELADO          NaN    2 TB        0 B           0.0  \n",
       "1  CADASTRADO          NaN   10 GB        0 B           0.0  \n",
       "2   CANCELADO          NaN   60 GB        0 B           0.0  \n",
       "3  CADASTRADO          NaN   10 GB        0 B           0.0  \n",
       "4  CADASTRADO          NaN  100 GB        0 B           0.0  "
      ]
     },
     "execution_count": 5,
     "metadata": {},
     "output_type": "execute_result"
    }
   ],
   "source": [
    "df.head()"
   ]
  },
  {
   "cell_type": "code",
   "execution_count": 6,
   "metadata": {},
   "outputs": [
    {
     "data": {
      "text/plain": [
       "ID              88578\n",
       "NOME            88578\n",
       "E-MAIL          88578\n",
       "STATUS          88578\n",
       "ULTIMO LOGIN     2077\n",
       "QUOTA           88578\n",
       "USED SPACE      88578\n",
       "% USED SPACE    88578\n",
       "dtype: int64"
      ]
     },
     "execution_count": 6,
     "metadata": {},
     "output_type": "execute_result"
    }
   ],
   "source": [
    "df.count()"
   ]
  },
  {
   "cell_type": "code",
   "execution_count": 7,
   "metadata": {},
   "outputs": [
    {
     "data": {
      "text/plain": [
       "708624"
      ]
     },
     "execution_count": 7,
     "metadata": {},
     "output_type": "execute_result"
    }
   ],
   "source": [
    "df.size"
   ]
  },
  {
   "cell_type": "code",
   "execution_count": 8,
   "metadata": {},
   "outputs": [
    {
     "data": {
      "text/html": [
       "<div>\n",
       "<style scoped>\n",
       "    .dataframe tbody tr th:only-of-type {\n",
       "        vertical-align: middle;\n",
       "    }\n",
       "\n",
       "    .dataframe tbody tr th {\n",
       "        vertical-align: top;\n",
       "    }\n",
       "\n",
       "    .dataframe thead th {\n",
       "        text-align: right;\n",
       "    }\n",
       "</style>\n",
       "<table border=\"1\" class=\"dataframe\">\n",
       "  <thead>\n",
       "    <tr style=\"text-align: right;\">\n",
       "      <th></th>\n",
       "      <th>ID</th>\n",
       "      <th>NOME</th>\n",
       "      <th>E-MAIL</th>\n",
       "      <th>STATUS</th>\n",
       "      <th>ULTIMO LOGIN</th>\n",
       "      <th>QUOTA</th>\n",
       "      <th>USED SPACE</th>\n",
       "      <th>% USED SPACE</th>\n",
       "    </tr>\n",
       "  </thead>\n",
       "  <tbody>\n",
       "    <tr>\n",
       "      <th>21</th>\n",
       "      <td>16913</td>\n",
       "      <td>Maria Alves Martins Andreo Alledo</td>\n",
       "      <td>aledo@terra.com.br</td>\n",
       "      <td>CANCELADO</td>\n",
       "      <td>2018-01-08 20:49:29.0</td>\n",
       "      <td>10 GB</td>\n",
       "      <td>0 B</td>\n",
       "      <td>0.0</td>\n",
       "    </tr>\n",
       "    <tr>\n",
       "      <th>55</th>\n",
       "      <td>38268</td>\n",
       "      <td>Bernardo Hideki Endo</td>\n",
       "      <td>bhendo@terra.com.br</td>\n",
       "      <td>ATIVO</td>\n",
       "      <td>2016-04-13 17:01:11.0</td>\n",
       "      <td>10 GB</td>\n",
       "      <td>0 B</td>\n",
       "      <td>0.0</td>\n",
       "    </tr>\n",
       "    <tr>\n",
       "      <th>62</th>\n",
       "      <td>43047</td>\n",
       "      <td>Andre Mauricio Marquardt</td>\n",
       "      <td>amm1@terra.com.br</td>\n",
       "      <td>ATIVO</td>\n",
       "      <td>2017-09-26 19:34:59.0</td>\n",
       "      <td>10 GB</td>\n",
       "      <td>51.2 MB</td>\n",
       "      <td>0.0</td>\n",
       "    </tr>\n",
       "    <tr>\n",
       "      <th>78</th>\n",
       "      <td>54156</td>\n",
       "      <td>Margot Virginia Silveira de Souza</td>\n",
       "      <td>cart@terra.com.br</td>\n",
       "      <td>ATIVO</td>\n",
       "      <td>2016-09-13 23:07:47.0</td>\n",
       "      <td>60 GB</td>\n",
       "      <td>0 B</td>\n",
       "      <td>0.0</td>\n",
       "    </tr>\n",
       "    <tr>\n",
       "      <th>121</th>\n",
       "      <td>85598</td>\n",
       "      <td>Alexandre Magno Ferreira e Souza</td>\n",
       "      <td>bbzaa698@terra.com.br</td>\n",
       "      <td>ATIVO</td>\n",
       "      <td>2018-02-12 23:23:49.0</td>\n",
       "      <td>10 GB</td>\n",
       "      <td>39.2 MB</td>\n",
       "      <td>0.0</td>\n",
       "    </tr>\n",
       "  </tbody>\n",
       "</table>\n",
       "</div>"
      ],
      "text/plain": [
       "        ID                               NOME                 E-MAIL  \\\n",
       "21   16913  Maria Alves Martins Andreo Alledo     aledo@terra.com.br   \n",
       "55   38268               Bernardo Hideki Endo    bhendo@terra.com.br   \n",
       "62   43047           Andre Mauricio Marquardt      amm1@terra.com.br   \n",
       "78   54156  Margot Virginia Silveira de Souza      cart@terra.com.br   \n",
       "121  85598   Alexandre Magno Ferreira e Souza  bbzaa698@terra.com.br   \n",
       "\n",
       "        STATUS           ULTIMO LOGIN  QUOTA USED SPACE  % USED SPACE  \n",
       "21   CANCELADO  2018-01-08 20:49:29.0  10 GB        0 B           0.0  \n",
       "55       ATIVO  2016-04-13 17:01:11.0  10 GB        0 B           0.0  \n",
       "62       ATIVO  2017-09-26 19:34:59.0  10 GB    51.2 MB           0.0  \n",
       "78       ATIVO  2016-09-13 23:07:47.0  60 GB        0 B           0.0  \n",
       "121      ATIVO  2018-02-12 23:23:49.0  10 GB    39.2 MB           0.0  "
      ]
     },
     "execution_count": 8,
     "metadata": {},
     "output_type": "execute_result"
    }
   ],
   "source": [
    "df_logged = df.dropna(axis=0, how='any')\n",
    "df_logged.head()"
   ]
  },
  {
   "cell_type": "code",
   "execution_count": 9,
   "metadata": {},
   "outputs": [
    {
     "data": {
      "text/html": [
       "<div>\n",
       "<style scoped>\n",
       "    .dataframe tbody tr th:only-of-type {\n",
       "        vertical-align: middle;\n",
       "    }\n",
       "\n",
       "    .dataframe tbody tr th {\n",
       "        vertical-align: top;\n",
       "    }\n",
       "\n",
       "    .dataframe thead th {\n",
       "        text-align: right;\n",
       "    }\n",
       "</style>\n",
       "<table border=\"1\" class=\"dataframe\">\n",
       "  <thead>\n",
       "    <tr style=\"text-align: right;\">\n",
       "      <th></th>\n",
       "      <th>ID</th>\n",
       "      <th>NOME</th>\n",
       "      <th>E-MAIL</th>\n",
       "      <th>STATUS</th>\n",
       "      <th>ULTIMO LOGIN</th>\n",
       "      <th>QUOTA</th>\n",
       "      <th>USED SPACE</th>\n",
       "      <th>% USED SPACE</th>\n",
       "    </tr>\n",
       "  </thead>\n",
       "  <tbody>\n",
       "    <tr>\n",
       "      <th>21</th>\n",
       "      <td>16913</td>\n",
       "      <td>Maria Alves Martins Andreo Alledo</td>\n",
       "      <td>aledo@terra.com.br</td>\n",
       "      <td>CANCELADO</td>\n",
       "      <td>2018-01-08 20:49:29.0</td>\n",
       "      <td>10 GB</td>\n",
       "      <td>0 B</td>\n",
       "      <td>0.0</td>\n",
       "    </tr>\n",
       "  </tbody>\n",
       "</table>\n",
       "</div>"
      ],
      "text/plain": [
       "       ID                               NOME              E-MAIL     STATUS  \\\n",
       "21  16913  Maria Alves Martins Andreo Alledo  aledo@terra.com.br  CANCELADO   \n",
       "\n",
       "             ULTIMO LOGIN  QUOTA USED SPACE  % USED SPACE  \n",
       "21  2018-01-08 20:49:29.0  10 GB        0 B           0.0  "
      ]
     },
     "execution_count": 9,
     "metadata": {},
     "output_type": "execute_result"
    }
   ],
   "source": [
    "df_logged[0:1]"
   ]
  },
  {
   "cell_type": "code",
   "execution_count": 22,
   "metadata": {},
   "outputs": [
    {
     "data": {
      "text/plain": [
       "(2396, 9)"
      ]
     },
     "execution_count": 22,
     "metadata": {},
     "output_type": "execute_result"
    }
   ],
   "source": [
    "df['CADASTRADO'] = df['STATUS'].apply(lambda status: status.startswith(\"CADA\") or status.startswith(\"ATI\"))\n",
    "df[df['STATUS'] == \"ATIVO\"].shape\n",
    "#df[df['STATUS'] == \"CADASTRADO\"].shape"
   ]
  },
  {
   "cell_type": "code",
   "execution_count": 11,
   "metadata": {},
   "outputs": [
    {
     "data": {
      "text/plain": [
       "ID              88578\n",
       "NOME            88578\n",
       "E-MAIL          88578\n",
       "STATUS          88578\n",
       "ULTIMO LOGIN     2077\n",
       "QUOTA           88578\n",
       "USED SPACE      88578\n",
       "% USED SPACE    88578\n",
       "CADASTRADO      88578\n",
       "dtype: int64"
      ]
     },
     "execution_count": 11,
     "metadata": {},
     "output_type": "execute_result"
    }
   ],
   "source": [
    "df.count()"
   ]
  },
  {
   "cell_type": "code",
   "execution_count": null,
   "metadata": {},
   "outputs": [],
   "source": []
  }
 ],
 "metadata": {
  "kernelspec": {
   "display_name": "Python 3",
   "language": "python",
   "name": "python3"
  },
  "language_info": {
   "codemirror_mode": {
    "name": "ipython",
    "version": 3
   },
   "file_extension": ".py",
   "mimetype": "text/x-python",
   "name": "python",
   "nbconvert_exporter": "python",
   "pygments_lexer": "ipython3",
   "version": "3.6.5"
  }
 },
 "nbformat": 4,
 "nbformat_minor": 2
}
